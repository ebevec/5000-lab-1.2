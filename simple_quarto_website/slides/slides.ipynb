{
  "cells": [
    {
      "cell_type": "raw",
      "id": "469685f7",
      "metadata": {},
      "source": [
        "---\n",
        "title: \"Here is my Slidedeck\"\n",
        "author: \"Erin Bevec\"\n",
        "format: revealjs\n",
        "---"
      ]
    },
    {
      "cell_type": "markdown",
      "id": "491a323f",
      "metadata": {},
      "source": [
        "---\n",
        "title: \"Here is my Slidedeck\"\n",
        "author: \"Erin Bevec\"\n",
        "format: revealjs\n",
        "---\n",
        "\n",
        "## About Me\n",
        "\n",
        "- Enjoys Hiking and Climbing\n",
        "- Has a cat named Bill\n",
        "- Loves Seafood\n",
        "\n",
        "## Pictures of Me Hiking\n",
        ":::{.column-page}\n",
        "![](images/hike_1.png)\n",
        ":::\n",
        "\n",
        ":::{.column-page}\n",
        "![](images/bryce.jpg)\n",
        ":::\n",
        "\n",
        "## Where I've lived\n",
        "\n",
        "- Philadelphia, PA\n",
        "- Rochester, NY\n",
        "- Washington, DC\n",
        "\n",
        "## Here's a Plot\n",
        "```{.python}\n",
        "import matplotlib.pyplot as plt \n",
        "import numpy as np\n",
        "import pandas as pd\n",
        "\n",
        "x = np.arange(0.0, 5.0, 0.01)\n",
        "y = range(500)\n",
        "\n",
        "fig, ax = plt.subplots()\n",
        "ax.plot(x, y)\n",
        "plt.title('Here is a Simple Plot')\n",
        "plt.show()\n",
        "```\n",
        "\n",
        "## References\n",
        "[@ZHAO20201624]\n",
        "[@SHWARTZZIV202284]\n"
      ]
    }
  ],
  "metadata": {
    "kernelspec": {
      "display_name": "Python 3 (ipykernel)",
      "language": "python",
      "name": "python3"
    },
    "language_info": {
      "name": "python",
      "version": "3.11.4"
    }
  },
  "nbformat": 4,
  "nbformat_minor": 5
}
